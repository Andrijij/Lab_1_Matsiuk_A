# Інтерактивний приклад використання бази знань та машини логічного виведення

from knowledge_module import KnowledgeBase
from inference_engine import InferenceEngine

# Ініціалізуємо базу знань
kb = KnowledgeBase()

# Додаємо факти
kb.add_fact("Resistor(r)")
kb.add_fact("Capacitor(c)")
kb.add_fact("Inductor(l)")
kb.add_fact("Voltage(v)")
kb.add_fact("Current(i)")

# Додаємо правила
kb.add_rule("Voltage(v) = Current(i) * Resistor(r)")
kb.add_rule("Energy(E) = 0.5 * Capacitor(c) * Voltage(v)^2")
kb.add_rule("Voltage(v) = Inductor(l) * (d(Current(i))/dt)")

# Виводимо базу знань
print("База знань:")
print(kb)

# Використовуємо машину логічного виведення
engine = InferenceEngine(kb)
query = "Voltage(v)"
result = engine.infer(query)
print(f"\nРезультат запиту {query}:")
print(result)
